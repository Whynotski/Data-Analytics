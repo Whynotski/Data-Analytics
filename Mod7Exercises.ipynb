{
 "cells": [
  {
   "cell_type": "markdown",
   "metadata": {},
   "source": [
    "# Module 7 Exercises - Linear Regression"
   ]
  },
  {
   "cell_type": "code",
   "execution_count": 65,
   "metadata": {
    "collapsed": true
   },
   "outputs": [],
   "source": [
    "import numpy as np\n",
    "import pandas as pd\n",
    "import matplotlib.pyplot as plt\n",
    "import sklearn #library for predictive modeling\n",
    "\n",
    "%matplotlib inline"
   ]
  },
  {
   "cell_type": "markdown",
   "metadata": {},
   "source": [
    "### Exercise 1:\n",
    "\n",
    "Using the pandas library, load the gradedata.csv file as a dataframe. Narrow your data (make the dataframe smaller) by choosing columns that you think can help predict total travel time. Use any method that you've learned so far to help your decision on which columns to keep. "
   ]
  },
  {
   "cell_type": "code",
   "execution_count": 81,
   "metadata": {},
   "outputs": [
    {
     "data": {
      "text/html": [
       "<div>\n",
       "<style>\n",
       "    .dataframe thead tr:only-child th {\n",
       "        text-align: right;\n",
       "    }\n",
       "\n",
       "    .dataframe thead th {\n",
       "        text-align: left;\n",
       "    }\n",
       "\n",
       "    .dataframe tbody tr th {\n",
       "        vertical-align: top;\n",
       "    }\n",
       "</style>\n",
       "<table border=\"1\" class=\"dataframe\">\n",
       "  <thead>\n",
       "    <tr style=\"text-align: right;\">\n",
       "      <th></th>\n",
       "      <th>age</th>\n",
       "      <th>exercise</th>\n",
       "      <th>hours</th>\n",
       "      <th>grade</th>\n",
       "    </tr>\n",
       "  </thead>\n",
       "  <tbody>\n",
       "    <tr>\n",
       "      <th>0</th>\n",
       "      <td>17</td>\n",
       "      <td>3</td>\n",
       "      <td>10</td>\n",
       "      <td>82.4</td>\n",
       "    </tr>\n",
       "    <tr>\n",
       "      <th>1</th>\n",
       "      <td>18</td>\n",
       "      <td>4</td>\n",
       "      <td>4</td>\n",
       "      <td>78.2</td>\n",
       "    </tr>\n",
       "    <tr>\n",
       "      <th>2</th>\n",
       "      <td>18</td>\n",
       "      <td>5</td>\n",
       "      <td>9</td>\n",
       "      <td>79.3</td>\n",
       "    </tr>\n",
       "    <tr>\n",
       "      <th>3</th>\n",
       "      <td>14</td>\n",
       "      <td>2</td>\n",
       "      <td>7</td>\n",
       "      <td>83.2</td>\n",
       "    </tr>\n",
       "    <tr>\n",
       "      <th>4</th>\n",
       "      <td>18</td>\n",
       "      <td>4</td>\n",
       "      <td>15</td>\n",
       "      <td>87.4</td>\n",
       "    </tr>\n",
       "    <tr>\n",
       "      <th>5</th>\n",
       "      <td>16</td>\n",
       "      <td>5</td>\n",
       "      <td>16</td>\n",
       "      <td>88.7</td>\n",
       "    </tr>\n",
       "    <tr>\n",
       "      <th>6</th>\n",
       "      <td>17</td>\n",
       "      <td>1</td>\n",
       "      <td>9</td>\n",
       "      <td>80.2</td>\n",
       "    </tr>\n",
       "    <tr>\n",
       "      <th>7</th>\n",
       "      <td>17</td>\n",
       "      <td>5</td>\n",
       "      <td>18</td>\n",
       "      <td>95.1</td>\n",
       "    </tr>\n",
       "    <tr>\n",
       "      <th>8</th>\n",
       "      <td>15</td>\n",
       "      <td>5</td>\n",
       "      <td>9</td>\n",
       "      <td>76.5</td>\n",
       "    </tr>\n",
       "    <tr>\n",
       "      <th>9</th>\n",
       "      <td>15</td>\n",
       "      <td>3</td>\n",
       "      <td>15</td>\n",
       "      <td>89.7</td>\n",
       "    </tr>\n",
       "  </tbody>\n",
       "</table>\n",
       "</div>"
      ],
      "text/plain": [
       "   age  exercise  hours  grade\n",
       "0   17         3     10   82.4\n",
       "1   18         4      4   78.2\n",
       "2   18         5      9   79.3\n",
       "3   14         2      7   83.2\n",
       "4   18         4     15   87.4\n",
       "5   16         5     16   88.7\n",
       "6   17         1      9   80.2\n",
       "7   17         5     18   95.1\n",
       "8   15         5      9   76.5\n",
       "9   15         3     15   89.7"
      ]
     },
     "execution_count": 81,
     "metadata": {},
     "output_type": "execute_result"
    }
   ],
   "source": [
    "location = \"datasets/gradedata.csv\"\n",
    "df = pd.read_csv(location)\n",
    "df = df.drop(['fname', 'lname', 'address', 'gender'], axis=1)\n",
    "df.head(10)"
   ]
  },
  {
   "cell_type": "markdown",
   "metadata": {},
   "source": [
    "### Exercise 2:\n",
    "\n",
    "Using the dataframe in the exercise above, clean and prepare your data. This means to eliminate any null (missing) values (either by dropping or filling them) and to transform any data column types to numerical values that a model can interpret. For example, if the column has string values, convert them to integers that best represent their order."
   ]
  },
  {
   "cell_type": "code",
   "execution_count": 82,
   "metadata": {},
   "outputs": [
    {
     "data": {
      "text/plain": [
       "age         False\n",
       "exercise    False\n",
       "hours       False\n",
       "grade       False\n",
       "dtype: bool"
      ]
     },
     "execution_count": 82,
     "metadata": {},
     "output_type": "execute_result"
    }
   ],
   "source": [
    "# Data is clean. No nulls found.\n",
    "pd.isnull(df).sum() > 0"
   ]
  },
  {
   "cell_type": "code",
   "execution_count": 83,
   "metadata": {},
   "outputs": [
    {
     "data": {
      "text/plain": [
       "age           int64\n",
       "exercise      int64\n",
       "hours         int64\n",
       "grade       float64\n",
       "dtype: object"
      ]
     },
     "execution_count": 83,
     "metadata": {},
     "output_type": "execute_result"
    }
   ],
   "source": [
    "# Data types has the required numeric columns.\n",
    "df.dtypes"
   ]
  },
  {
   "cell_type": "markdown",
   "metadata": {},
   "source": [
    "### Exercise 3:\n",
    "\n",
    "Using the cleaned dataframe in the exercise above, use the sklearn library to split the data into training and test datasets. Make the test size 30%."
   ]
  },
  {
   "cell_type": "code",
   "execution_count": 84,
   "metadata": {},
   "outputs": [
    {
     "name": "stdout",
     "output_type": "stream",
     "text": [
      "(1400, 3)\n",
      "(600, 3)\n",
      "(1400,)\n",
      "(600,)\n"
     ]
    }
   ],
   "source": [
    "from sklearn.linear_model import LinearRegression\n",
    "\n",
    "X = df.drop('grade', axis=1)\n",
    "\n",
    "X_train, X_test, Y_train, Y_test = sklearn.model_selection.train_test_split(\n",
    "    X, df.grade, test_size=0.30, random_state = 5)\n",
    "print(X_train.shape)\n",
    "print(X_test.shape)\n",
    "print(Y_train.shape)\n",
    "print(Y_test.shape)"
   ]
  },
  {
   "cell_type": "markdown",
   "metadata": {},
   "source": [
    "### Exercise 4:\n",
    "\n",
    "Using the training data from the previous exercise, set a linear regression function to fit the data (build the model)."
   ]
  },
  {
   "cell_type": "code",
   "execution_count": 85,
   "metadata": {},
   "outputs": [
    {
     "data": {
      "text/plain": [
       "LinearRegression(copy_X=True, fit_intercept=True, n_jobs=1, normalize=False)"
      ]
     },
     "execution_count": 85,
     "metadata": {},
     "output_type": "execute_result"
    }
   ],
   "source": [
    "from sklearn.linear_model import LinearRegression\n",
    "lm = LinearRegression()\n",
    "#calculate the model using the training data\n",
    "lm.fit(X_train, Y_train)\n"
   ]
  },
  {
   "cell_type": "markdown",
   "metadata": {},
   "source": [
    "### Exercise 5:\n",
    "\n",
    "What is the intercept coefficient (y-intercept) for the linear regression model?"
   ]
  },
  {
   "cell_type": "code",
   "execution_count": 86,
   "metadata": {},
   "outputs": [
    {
     "name": "stdout",
     "output_type": "stream",
     "text": [
      "Estimated intercept coefficient: 57.8704097996\n"
     ]
    }
   ],
   "source": [
    "lm.fit(X, df['grade'])\n",
    "#y-intercept for the linear regression formula\n",
    "print('Estimated intercept coefficient:', lm.intercept_)"
   ]
  },
  {
   "cell_type": "markdown",
   "metadata": {},
   "source": [
    "### Exercise 6:\n",
    "\n",
    "Use the predict function on the training data and the test data."
   ]
  },
  {
   "cell_type": "code",
   "execution_count": 87,
   "metadata": {},
   "outputs": [
    {
     "name": "stdout",
     "output_type": "stream",
     "text": [
      "training data = [ 66.37470036  85.38116157  79.68847346 ...,  95.90808673  74.82645746\n",
      "  73.88209106]\n",
      "test data = [  89.35036037   88.26452073   76.78263329   76.94658754   83.58364205\n",
      "   90.30002471   95.06023155   99.76359124   84.48834437   90.26036064\n",
      "   70.18524285   75.00759478   84.61263455   83.44216881   90.14136841\n",
      "   80.75713003   74.80927439   74.90578561   87.29767332   86.48948222\n",
      "   77.69263355   80.71746595   84.39183315   87.23552823   90.14136841\n",
      "   75.00759478   71.05557904   86.28586389   98.87607199   74.00108329\n",
      "   78.74410706   75.83826689   94.94123932   72.83061755   96.89741515\n",
      "   89.15203999   91.28935313   87.23552823   88.24203972   83.44216881\n",
      "   86.56881037   79.6091453    93.06439164   87.3373374    92.15439138\n",
      "   81.70679437   84.59015353   73.81994597   76.84477837   85.39834464\n",
      "   89.31069629   85.53981788   74.95074763   88.42317704   84.51082538\n",
      "   75.81578588   71.1349072    75.03007579   84.49364232   75.03007579\n",
      "   94.96372033   96.00989589   93.08687265   96.11170506   90.19821555\n",
      "   83.48183288   92.09754423   89.41250546   81.6671303    75.06973986\n",
      "   81.54813807   80.55880965   84.48834437   88.32666582   98.02821681\n",
      "   92.15968932   77.73229763   76.88444245   74.99041171   99.78607225\n",
      "   89.3331773    76.66364106   83.46464982   82.57713056   82.63397771\n",
      "   92.31834563   71.9430983    86.48948222   70.02658655   81.6671303\n",
      "   86.36519204   74.78679338   76.88444245   68.18940295   85.43800871\n",
      "   90.20351349   85.38116157   72.1017546    87.3373374    82.61149669\n",
      "   90.22069656   88.38351296   90.24317757   93.20586488   72.83061755\n",
      "   79.67129039   86.48948222   71.03309803   88.40599397   93.1437198\n",
      "   84.61263455   80.70028289   83.48183288   68.99759405   80.73994697\n",
      "   86.32552797   88.28700174   81.64464929   84.59015353   92.05788016\n",
      "   70.20772386   88.22485665   72.04490746   80.69498494   80.66061881\n",
      "   86.3083449    95.82875857   88.42317704   94.1951933    78.58015281\n",
      "   88.22485665   76.74296921   90.15855147   67.2397386    69.11658628\n",
      "   69.0769222    93.99157497   80.77961104   85.43800871   85.53981788\n",
      "   81.62746622   72.1017546    80.66061881   80.75713003   88.28700174\n",
      "   88.48532213   85.38116157   94.11586515   88.24203972   82.53216854\n",
      "   84.59015353   82.45284039   84.40901622   93.16620081   83.46464982\n",
      "   79.76780161   82.73578687   67.2397386    88.3663299    73.89927413\n",
      "   76.90692346   63.36705102   84.65229862   79.6091453    79.62632837\n",
      "   84.49364232   74.9679307    68.14973887   84.48834437   84.45397824\n",
      "   86.28586389   80.59847372   94.036537     84.43149723   59.53402752\n",
      "   71.9430983    78.68196197   78.70444298   87.41666555   84.65229862\n",
      "   76.82229736   89.29351323   75.9969232    97.8695605    97.90922458\n",
      "   81.56532113   74.01826636   83.52149696   82.67364178   78.73880911\n",
      "   78.68196197   74.00108329   80.65532087   95.16204071   87.29767332\n",
      "   96.04955997   72.06209053   78.78377114   80.70028289   75.91759504\n",
      "   94.13304822   80.71746595   79.56948123   81.74645845   75.73645772\n",
      "   73.07389996   88.30418481   80.69498494   81.48599298   99.86540041\n",
      "   78.84061828   86.4445202    91.28935313   84.44868029   90.3621698\n",
      "   76.82229736   86.48948222   83.52149696   71.19705228   78.73880911\n",
      "   91.22720804   74.91108356   67.27940268   80.62095474   89.27103222\n",
      "   75.91759504   90.20351349   93.16620081   97.98855273   77.71511456\n",
      "   79.68847346   78.90276337   82.65645872   75.91759504   88.32136787\n",
      "   79.56948123   70.14557878   80.70028289   88.22485665   86.48948222\n",
      "   86.34800898   88.3663299    83.58364205   93.08687265   91.21002498\n",
      "   78.61981688   80.62095474   81.58780214   78.72162605   68.99759405\n",
      "   69.03725813  101.86124031   84.4711613    88.3663299    70.18524285\n",
      "   94.11586515   90.14136841   97.7849344    84.4711613    74.04074737\n",
      "   80.55880965   82.69612279   76.78263329   68.33087619   76.94658754\n",
      "   90.23787962   81.70679437   96.07204098   74.00108329   80.55880965\n",
      "   89.31069629   91.26687212   92.23901748   87.41666555   73.89927413\n",
      "   90.33968879  101.78191216   88.48532213   92.15968932   83.44216881\n",
      "   83.6629702    80.70028289   96.89741515   84.45397824   68.14973887\n",
      "   88.34384888   84.43149723   89.15203999   80.73994697   91.26687212\n",
      "   91.24968906   81.58780214   84.49364232   88.30418481   71.9430983\n",
      "   80.6381378    87.3373374    83.48183288   71.01591497   95.04304848\n",
      "   85.38116157   97.94888865   97.07855246   78.84061828   74.01826636\n",
      "   76.84477837   71.15738821   76.70330513   71.11242618   72.83061755\n",
      "   86.5291463    96.11170506   77.77196171   76.94658754   93.02472757\n",
      "   80.62095474   76.90692346   84.51082538   86.34800898   84.32968806\n",
      "   71.1349072    93.99157497   65.2438987    80.69498494   76.86725939\n",
      "   85.35868056   88.30418481   79.72813753   90.23787962   86.36519204\n",
      "   98.91573606   82.59431363   78.90276337   60.52335594   90.20351349\n",
      "   84.51082538   74.04074737   79.62632837   84.44868029   77.83410679\n",
      "   92.23901748   93.10405572   83.6629702    77.91343495   63.4067151\n",
      "   71.03309803   81.60498521   87.43384862   70.02658655   88.26452073\n",
      "   74.99041171   75.7761218    82.73578687   94.07090313   76.84477837\n",
      "   86.37048999   95.12237664   84.32968806   90.28284165   78.68196197\n",
      "   90.14136841   94.07090313   77.81162578   79.56948123   93.08687265\n",
      "   77.81162578   81.74645845   73.9389382    77.85128986   77.79444272\n",
      "   95.04304848   86.56881037   96.99922431   74.91108356   78.76129013\n",
      "   86.36519204   88.32666582   95.04304848   66.35221935   85.53981788\n",
      "   84.36935214   84.39183315   82.61679464   73.85961005   83.54397797\n",
      "   77.65296948   80.65532087   95.16204071   83.48183288   83.60082511\n",
      "   94.15552923   79.68847346   77.87377087   84.32968806   94.05372006\n",
      "   91.24968906   96.04955997   76.8051143    73.92175514   82.67364178\n",
      "   68.29121211   84.4711613    90.07922332   68.17221988   76.8051143\n",
      "   84.40901622   85.43800871   84.52800845   84.55048946   83.48183288\n",
      "   72.02242645   76.90692346   76.72578614   81.52565706   84.61263455\n",
      "   83.46464982   73.02893794   86.40485612   80.65532087   86.3083449\n",
      "   72.90994571   77.75477864   99.94472856   69.98692247   94.07090313\n",
      "   80.57599271   69.19591443   72.97209079   78.82343521   85.51733687\n",
      "   83.54397797   97.98855273   69.05973914   81.74645845   78.76129013\n",
      "   85.42082565   91.1703609    86.24619981   69.15625036   74.86612153\n",
      "   90.14136841   90.23787962   85.5001538    81.54813807   71.09524312\n",
      "   89.3331773    73.88209106   90.15855147   78.90276337   81.48599298\n",
      "   84.51082538   79.68847346   72.83061755   70.99343395   84.44868029\n",
      "   73.07389996   84.4711613    86.4445202    82.57713056   80.55880965\n",
      "   70.24738794   81.6671303    71.90343422   92.05788016   77.81162578\n",
      "   84.49364232   86.34800898   91.28935313   85.31901648   70.9141058\n",
      "   90.24317757   75.83826689   95.95304875   71.90343422   78.77847319\n",
      "   74.7471293    70.14557878   94.09338414   69.0769222    79.68847346\n",
      "   89.2485512    79.63162632   81.68431336   82.59431363   87.39418454\n",
      "   72.89276264   75.85544995   82.53746649   88.32136787   86.34800898\n",
      "   90.2775437    95.86842265   73.11356404   87.37700148  101.86124031\n",
      "   80.69498494   74.80927439   86.3083449    81.48599298   78.70444298\n",
      "   92.98506349   81.56532113   80.71746595   88.20237564   76.76545022\n",
      "   88.16271157   81.48599298   89.23136814   90.07922332   82.61149669\n",
      "   74.91108356   80.71746595   89.41250546   89.25384915   85.47767279\n",
      "   96.11170506   88.22485665   79.68847346   75.87793097   74.90578561\n",
      "   72.98927386   82.53746649   85.57948195   89.23136814   71.07806005\n",
      "   78.6422979    81.74645845   90.40183388   82.61679464   81.60498521\n",
      "   89.25384915   86.40485612   74.04074737   85.5001538    84.4711613\n",
      "   92.15439138   76.78793123   92.12002525   87.37700148   90.14136841\n",
      "   72.87028163   82.53746649   97.8695605    74.78679338   94.98090339\n",
      "   78.68196197   69.25805952   95.04304848   80.77961104   76.88444245\n",
      "   84.51082538   72.95490773   80.66061881   94.11586515   77.91343495\n",
      "   92.23901748   83.58364205   81.56532113   79.68847346   68.11007479\n",
      "   73.97860228   90.23787962   94.036537     96.0323769    95.04304848\n",
      "   78.76129013   83.52149696   95.04304848   67.20007453  101.702584\n",
      "   88.40599397   98.89325505   75.00759478   92.15968932   90.14136841\n",
      "   89.3331773    88.3663299    84.57297047   75.87793097   74.9679307\n",
      "   77.63048846   66.31255527   76.76545022   72.12423562  100.87191189\n",
      "   84.40901622   70.97625089   91.28935313   82.61679464   76.88444245\n",
      "   78.68196197   81.48599298   80.59847372   88.20237564   67.0810823\n",
      "   96.99922431   84.61263455   85.43800871   89.31069629   85.43800871]\n"
     ]
    }
   ],
   "source": [
    "#predictions for training and test data\n",
    "pred_train = lm.predict(X_train)\n",
    "pred_test = lm.predict(X_test)\n",
    "print(\"training data =\", pred_train)\n",
    "print(\"test data =\", pred_test)"
   ]
  },
  {
   "cell_type": "markdown",
   "metadata": {},
   "source": [
    "### Exercise 7:\n",
    "\n",
    "Calculate the MSE (mean squared error) of the training and test predictions. How \"good\" was the linear regression model at predicting the test data compared to the training data?"
   ]
  },
  {
   "cell_type": "code",
   "execution_count": 88,
   "metadata": {},
   "outputs": [
    {
     "name": "stdout",
     "output_type": "stream",
     "text": [
      "0.681369686162\n",
      "0.622154271121\n"
     ]
    }
   ],
   "source": [
    "#evaluate the accuracy of the model of training vs test\n",
    "print(lm.score(X_train, Y_train))\n",
    "print(lm.score(X_test, Y_test))"
   ]
  },
  {
   "cell_type": "code",
   "execution_count": 89,
   "metadata": {},
   "outputs": [
    {
     "data": {
      "text/plain": [
       "array([ 80.67780188,  70.20772386,  80.77961104,  73.81994597,  91.28935313])"
      ]
     },
     "execution_count": 89,
     "metadata": {},
     "output_type": "execute_result"
    }
   ],
   "source": [
    "lm.predict(X)[0:5]"
   ]
  },
  {
   "cell_type": "code",
   "execution_count": 76,
   "metadata": {},
   "outputs": [
    {
     "data": {
      "text/plain": [
       "0.66402926225539605"
      ]
     },
     "execution_count": 76,
     "metadata": {},
     "output_type": "execute_result"
    }
   ],
   "source": [
    "lm.score(X, df['grade'])"
   ]
  },
  {
   "cell_type": "code",
   "execution_count": 64,
   "metadata": {},
   "outputs": [
    {
     "data": {
      "image/png": "[encoded data removed]",
      "text/plain": [
       "<matplotlib.figure.Figure at 0x1f4b0f89e48>"
      ]
     },
     "metadata": {},
     "output_type": "display_data"
    }
   ],
   "source": [
    "#visual comparison between the true grade of a student and the price the model predicted\n",
    "plt.scatter(df['grade'], lm.predict(X))\n",
    "plt.xlabel(\"Grade\")\n",
    "plt.ylabel(\"Predicted Grade\")\n",
    "plt.title(\"Grade vs Predicted Grade\")\n",
    "plt.show()"
   ]
  },
  {
   "cell_type": "code",
   "execution_count": 90,
   "metadata": {},
   "outputs": [
    {
     "data": {
      "image/png": "[encoded data removed]",
      "text/plain": [
       "<matplotlib.figure.Figure at 0x1f4b13d6748>"
      ]
     },
     "metadata": {},
     "output_type": "display_data"
    }
   ],
   "source": [
    "# compare exercise to grades\n",
    "plt.scatter(df['exercise'], df['grade']) \n",
    "plt.xlabel(\"Average hours of exercise\") \n",
    "plt.ylabel(\"Grade\") \n",
    "plt.title(\"Relationship between Exercise and Grade\") \n",
    "plt.show()"
   ]
  },
  {
   "cell_type": "code",
   "execution_count": 91,
   "metadata": {},
   "outputs": [
    {
     "data": {
      "image/png": "[encoded data removed]",
      "text/plain": [
       "<matplotlib.figure.Figure at 0x1f4b10d9ac8>"
      ]
     },
     "metadata": {},
     "output_type": "display_data"
    }
   ],
   "source": [
    "# compare hours of study to grades\n",
    "plt.scatter(df['hours'], df['grade']) \n",
    "plt.xlabel(\"Average hours of study\") \n",
    "plt.ylabel(\"Grade\") \n",
    "plt.title(\"Relationship between Study and Grade\") \n",
    "plt.show()"
   ]
  },
  {
   "cell_type": "code",
   "execution_count": 92,
   "metadata": {},
   "outputs": [
    {
     "data": {
      "image/png": "[encoded data removed]",
      "text/plain": [
       "<matplotlib.figure.Figure at 0x1f4b1700668>"
      ]
     },
     "metadata": {},
     "output_type": "display_data"
    }
   ],
   "source": [
    "# compare age to grades\n",
    "plt.scatter(df['age'], df['grade']) \n",
    "plt.xlabel(\"Average age\") \n",
    "plt.ylabel(\"Grade\") \n",
    "plt.title(\"Relationship between Age and Grade\") \n",
    "plt.show()"
   ]
  },
  {
   "cell_type": "code",
   "execution_count": null,
   "metadata": {
    "collapsed": true
   },
   "outputs": [],
   "source": []
  }
 ],
 "metadata": {
  "kernelspec": {
   "display_name": "Python 3",
   "language": "python",
   "name": "python3"
  },
  "language_info": {
   "codemirror_mode": {
    "name": "ipython",
    "version": 3
   },
   "file_extension": ".py",
   "mimetype": "text/x-python",
   "name": "python",
   "nbconvert_exporter": "python",
   "pygments_lexer": "ipython3",
   "version": "3.6.3"
  }
 },
 "nbformat": 4,
 "nbformat_minor": 2
}

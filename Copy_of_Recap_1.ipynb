{
  "nbformat": 4,
  "nbformat_minor": 0,
  "metadata": {
    "colab": {
      "provenance": [],
      "include_colab_link": true
    },
    "kernelspec": {
      "name": "python3",
      "display_name": "Python 3"
    },
    "language_info": {
      "name": "python"
    }
  },
  "cells": [
    {
      "cell_type": "markdown",
      "metadata": {
        "id": "view-in-github",
        "colab_type": "text"
      },
      "source": [
        "<a href=\"https://colab.research.google.com/github/Whynotski/Data-Analytics/blob/master/Copy_of_Recap_1.ipynb\" target=\"_parent\"><img src=\"https://colab.research.google.com/assets/colab-badge.svg\" alt=\"Open In Colab\"/></a>"
      ]
    },
    {
      "cell_type": "markdown",
      "source": [
        "Recap #1\n",
        "\n",
        "- Variables\n",
        "- Data types\n",
        "- Arithmetic\n",
        "- Comparison operators\n",
        "- Integers/Float\n",
        "- Strings"
      ],
      "metadata": {
        "id": "5mlrUxEQ6HDh"
      }
    },
    {
      "cell_type": "code",
      "source": [
        "secret_number = 30\n",
        "\n",
        "for integer in range(1,10):\n",
        "  print(integer+secret_number)\n",
        "\n",
        "password = secret_number*5"
      ],
      "metadata": {
        "colab": {
          "base_uri": "https://localhost:8080/"
        },
        "id": "u75RZCSZ_1_t",
        "outputId": "c30a6873-741e-4e2e-f411-e8ca51fa3cd8"
      },
      "execution_count": null,
      "outputs": [
        {
          "output_type": "stream",
          "name": "stdout",
          "text": [
            "31\n",
            "32\n",
            "33\n",
            "34\n",
            "35\n",
            "36\n",
            "37\n",
            "38\n",
            "39\n"
          ]
        }
      ]
    },
    {
      "cell_type": "code",
      "execution_count": null,
      "metadata": {
        "id": "d3aoZcPO5y86",
        "outputId": "f9f91560-a12f-43d6-d11d-6d3c3e97bb48",
        "colab": {
          "base_uri": "https://localhost:8080/"
        }
      },
      "outputs": [
        {
          "output_type": "stream",
          "name": "stdout",
          "text": [
            "Alice\n",
            "Bob\n"
          ]
        }
      ],
      "source": [
        "# VARIABLES\n",
        "\n",
        "# Define a variable called 'name' and assign it the value \"Alice\"\n",
        "name = \"Alice\"\n",
        "\n",
        "# Print the value of the variable\n",
        "print(name)  # Output: Alice\n",
        "\n",
        "# Change the value of the variable\n",
        "name = \"Bob\"\n",
        "\n",
        "# Print the updated value\n",
        "print(name)  # Output: Bob\n"
      ]
    },
    {
      "cell_type": "code",
      "source": [
        "# data type example\n",
        "\n",
        "num_1 = 5\n",
        "num_2 = 10\n",
        "\n",
        "result = num_1 * num_2\n",
        "\n",
        "print(result)"
      ],
      "metadata": {
        "colab": {
          "base_uri": "https://localhost:8080/"
        },
        "id": "2jnzJPr3BIVh",
        "outputId": "156f466a-c477-4541-824b-cdccdd7d3fe1"
      },
      "execution_count": null,
      "outputs": [
        {
          "output_type": "stream",
          "name": "stdout",
          "text": [
            "50\n"
          ]
        }
      ]
    },
    {
      "cell_type": "code",
      "source": [
        "number_1 = 3\n",
        "float_1 = 1.0\n",
        "string_1 = \"Joanna\"\n",
        "\n",
        "product_num = number_1 * float_1\n",
        "\n",
        "print(product_num)\n",
        "\n",
        "print(string_1 * number_1)"
      ],
      "metadata": {
        "colab": {
          "base_uri": "https://localhost:8080/"
        },
        "id": "ExqTftzWCgIr",
        "outputId": "364b7e49-d21d-4e54-ac55-856927971f11"
      },
      "execution_count": null,
      "outputs": [
        {
          "output_type": "stream",
          "name": "stdout",
          "text": [
            "3.0\n",
            "JoannaJoannaJoanna\n"
          ]
        }
      ]
    },
    {
      "cell_type": "code",
      "source": [
        "id = \"054920812\""
      ],
      "metadata": {
        "id": "bdJea8MoCGkF"
      },
      "execution_count": null,
      "outputs": []
    },
    {
      "cell_type": "code",
      "source": [
        "# data type example 2: string\n",
        "\n",
        "string_1 = \"5\"\n",
        "string_2 = \"10\"\n",
        "\n",
        "result = string_1 * string_2\n",
        "\n",
        "print(result)"
      ],
      "metadata": {
        "colab": {
          "base_uri": "https://localhost:8080/",
          "height": 211
        },
        "id": "t45lXs-8BPiv",
        "outputId": "196a43cf-f61d-4873-ef28-49930dd5ca18"
      },
      "execution_count": null,
      "outputs": [
        {
          "output_type": "error",
          "ename": "TypeError",
          "evalue": "can't multiply sequence by non-int of type 'str'",
          "traceback": [
            "\u001b[0;31m---------------------------------------------------------------------------\u001b[0m",
            "\u001b[0;31mTypeError\u001b[0m                                 Traceback (most recent call last)",
            "\u001b[0;32m<ipython-input-5-d23996204d3c>\u001b[0m in \u001b[0;36m<cell line: 6>\u001b[0;34m()\u001b[0m\n\u001b[1;32m      4\u001b[0m \u001b[0mstring_2\u001b[0m \u001b[0;34m=\u001b[0m \u001b[0;34m\"10\"\u001b[0m\u001b[0;34m\u001b[0m\u001b[0;34m\u001b[0m\u001b[0m\n\u001b[1;32m      5\u001b[0m \u001b[0;34m\u001b[0m\u001b[0m\n\u001b[0;32m----> 6\u001b[0;31m \u001b[0mresult\u001b[0m \u001b[0;34m=\u001b[0m \u001b[0mstring_1\u001b[0m \u001b[0;34m*\u001b[0m \u001b[0mstring_2\u001b[0m\u001b[0;34m\u001b[0m\u001b[0;34m\u001b[0m\u001b[0m\n\u001b[0m\u001b[1;32m      7\u001b[0m \u001b[0;34m\u001b[0m\u001b[0m\n\u001b[1;32m      8\u001b[0m \u001b[0mprint\u001b[0m\u001b[0;34m(\u001b[0m\u001b[0mresult\u001b[0m\u001b[0;34m)\u001b[0m\u001b[0;34m\u001b[0m\u001b[0;34m\u001b[0m\u001b[0m\n",
            "\u001b[0;31mTypeError\u001b[0m: can't multiply sequence by non-int of type 'str'"
          ]
        }
      ]
    },
    {
      "cell_type": "code",
      "source": [
        "type(5)"
      ],
      "metadata": {
        "colab": {
          "base_uri": "https://localhost:8080/"
        },
        "id": "9tkMdlzLEaE1",
        "outputId": "0a4730df-41fd-4b17-dee3-7f09640bebf2"
      },
      "execution_count": null,
      "outputs": [
        {
          "output_type": "execute_result",
          "data": {
            "text/plain": [
              "int"
            ]
          },
          "metadata": {},
          "execution_count": 14
        }
      ]
    },
    {
      "cell_type": "code",
      "source": [],
      "metadata": {
        "id": "LkJTW-CWE2r5"
      },
      "execution_count": null,
      "outputs": []
    },
    {
      "cell_type": "code",
      "source": [
        "# data types examples\n",
        "\n",
        "# Integer\n",
        "age = 30\n",
        "print(type(age))  # Output: <class 'int'>\n",
        "\n",
        "# Float\n",
        "price = 19.99\n",
        "print(type(price))  # Output: <class 'float'>\n",
        "\n",
        "# String\n",
        "message = \"Hello, world!\"\n",
        "print(type(message))  # Output: <class 'str'>\n",
        "\n",
        "# Boolean\n",
        "is_student = True\n",
        "print(type(is_student))  # Output: <class 'bool'>\n"
      ],
      "metadata": {
        "id": "v7kotQ3n6liv",
        "outputId": "1a52f657-02bc-4076-e3e4-1a44dd3430ca",
        "colab": {
          "base_uri": "https://localhost:8080/"
        }
      },
      "execution_count": null,
      "outputs": [
        {
          "output_type": "stream",
          "name": "stdout",
          "text": [
            "<class 'int'>\n",
            "<class 'float'>\n",
            "<class 'str'>\n",
            "<class 'bool'>\n"
          ]
        }
      ]
    },
    {
      "cell_type": "code",
      "source": [
        "# how arithmetic works for different data types\n",
        "\n",
        "# Integer addition\n",
        "num1 = 10\n",
        "num2 = 5\n",
        "sum_result = num1 + num2\n",
        "print(sum_result)  # Output: 15\n",
        "\n",
        "# Float multiplication\n",
        "price = 12.5\n",
        "quantity = 3\n",
        "total_cost = price * quantity\n",
        "print(total_cost)  # Output: 37.5\n",
        "\n",
        "# String concatenation\n",
        "greeting = \"Hello\"\n",
        "name = \"Alice\"\n",
        "full_message = greeting + \", \" + name + \"!\"\n",
        "print(full_message)  # Output: Hello, Alice!\n"
      ],
      "metadata": {
        "id": "_5IksR9D6tnh",
        "outputId": "b0d66d68-c774-4245-f280-d703eb840599",
        "colab": {
          "base_uri": "https://localhost:8080/"
        }
      },
      "execution_count": null,
      "outputs": [
        {
          "output_type": "stream",
          "name": "stdout",
          "text": [
            "15\n",
            "37.5\n",
            "Hello, Alice!\n"
          ]
        }
      ]
    },
    {
      "cell_type": "code",
      "source": [
        "super_long_expression = 5 * (8 + 10) - 3"
      ],
      "metadata": {
        "id": "Ro-wO1EwE4Yx"
      },
      "execution_count": null,
      "outputs": []
    },
    {
      "cell_type": "code",
      "source": [
        "odd_or_even = 7\n",
        "\n",
        "if odd_or_even % 2 == 0:\n",
        "  print(\"even\")\n",
        "else:\n",
        "  print(\"odd\")"
      ],
      "metadata": {
        "colab": {
          "base_uri": "https://localhost:8080/"
        },
        "id": "VL4md3K5FHRp",
        "outputId": "6daacc41-c97c-4218-acb1-1168b66bd90a"
      },
      "execution_count": null,
      "outputs": [
        {
          "output_type": "stream",
          "name": "stdout",
          "text": [
            "odd\n"
          ]
        }
      ]
    },
    {
      "cell_type": "code",
      "source": [
        "# Comparison operators\n",
        "\n",
        "x = 12\n",
        "y = 6\n",
        "\n",
        "print(x == y)  # Output: False (equal to)\n",
        "print(x != y)  # Output: True (not equal to)\n",
        "print(x > y)   # Output: True (greater than)\n",
        "print(x < y)   # Output: False (less than)\n",
        "print(x >= y)  # Output: True (greater than or equal to)\n",
        "print(x <= y)  # Output: False (less than or equal to)"
      ],
      "metadata": {
        "id": "U5tLioVd7W5R",
        "outputId": "d3ae8a87-f8ca-40dd-8c4d-14a96ab51b6a",
        "colab": {
          "base_uri": "https://localhost:8080/"
        }
      },
      "execution_count": null,
      "outputs": [
        {
          "output_type": "stream",
          "name": "stdout",
          "text": [
            "False\n",
            "True\n",
            "True\n",
            "False\n",
            "True\n",
            "False\n"
          ]
        }
      ]
    },
    {
      "cell_type": "code",
      "source": [
        "lowercase_string = \"a\"\n",
        "uppercase_string = \"A\"\n",
        "\n",
        "print(lowercase_string == uppercase_string)"
      ],
      "metadata": {
        "colab": {
          "base_uri": "https://localhost:8080/"
        },
        "id": "xPHCyHA8MBrB",
        "outputId": "bc1de2f6-3f51-4597-f612-41cf3a69f48b"
      },
      "execution_count": null,
      "outputs": [
        {
          "output_type": "stream",
          "name": "stdout",
          "text": [
            "False\n"
          ]
        }
      ]
    },
    {
      "cell_type": "code",
      "source": [
        "# difference between ints and floats\n",
        "\n",
        "# Integers are whole numbers (no decimals)\n",
        "integer_example = 10\n",
        "print(integer_example, \"is an integer.\")\n",
        "\n",
        "# Floats are numbers with decimals\n",
        "float_example = 3.14\n",
        "print(float_example, \"is a float.\")\n",
        "\n",
        "# Key difference: Floats can represent numbers with fractional parts, while integers cannot.\n"
      ],
      "metadata": {
        "id": "h1tV0Y4X7YoV",
        "outputId": "abab0f74-b9b2-4987-ac2f-045d246173d6",
        "colab": {
          "base_uri": "https://localhost:8080/"
        }
      },
      "execution_count": null,
      "outputs": [
        {
          "output_type": "stream",
          "name": "stdout",
          "text": [
            "10 is an integer.\n",
            "3.14 is a float.\n"
          ]
        }
      ]
    },
    {
      "cell_type": "code",
      "source": [
        "# strings\n",
        "\n",
        "# String concatenation\n",
        "str1 = \"Hello\"\n",
        "str2 = \"World\"\n",
        "result = str1 + \" \" + str2\n",
        "print(result)  # Output: Hello World\n",
        "\n",
        "# String repetition\n",
        "message = \"Python! \"\n",
        "repeated_message = message * 3\n",
        "print(repeated_message)  # Output: Python! Python! Python!\n",
        "\n",
        "# String indexing\n",
        "text = \"Programming\"\n",
        "first_char = text[0]\n",
        "fifth_char = text[4]\n",
        "print(first_char)  # Output: P\n",
        "print(fifth_char)  # Output: r\n",
        "\n",
        "\"Programming\"\n",
        "\n",
        "phone_number = \"4439086671\"\n",
        "\n",
        "print(phone_number[0:3])\n",
        "\n",
        "print(phone_number[::2])\n",
        "\n",
        "# String slicing\n",
        "text = \"Programming\"\n",
        "substring1 = text[0:4]  # Extract characters from index 0 to 3\n",
        "substring2 = text[4:]   # Extract characters from index 4 to the end\n",
        "print(substring1)  # Output: Prog\n",
        "print(substring2)  # Output: ramming\n",
        "\n",
        "# String length\n",
        "text = \"Hello, world!\"\n",
        "length = len(text)\n",
        "print(length)  # Output: 13\n",
        "\n"
      ],
      "metadata": {
        "id": "S4DwAIBP7ilx",
        "colab": {
          "base_uri": "https://localhost:8080/"
        },
        "outputId": "5b9111cd-61f2-4af1-bd5e-529d00719d68"
      },
      "execution_count": null,
      "outputs": [
        {
          "output_type": "stream",
          "name": "stdout",
          "text": [
            "Hello World\n",
            "Python! Python! Python! \n",
            "P\n",
            "r\n",
            "443\n",
            "43067\n",
            "Prog\n",
            "ramming\n",
            "13\n"
          ]
        }
      ]
    },
    {
      "cell_type": "code",
      "source": [
        "\n",
        "name = \"Joel\"\n",
        "\n",
        "greeting = \"Hello, how are you \" + name"
      ],
      "metadata": {
        "id": "YyxhtLgDPlTM"
      },
      "execution_count": null,
      "outputs": []
    },
    {
      "cell_type": "code",
      "source": [
        "print(greeting)"
      ],
      "metadata": {
        "colab": {
          "base_uri": "https://localhost:8080/"
        },
        "id": "cj_rtyemP0EJ",
        "outputId": "fa0b468c-c4e9-49f9-9fa0-cede5bbe6ef6"
      },
      "execution_count": null,
      "outputs": [
        {
          "output_type": "stream",
          "name": "stdout",
          "text": [
            "Hello, how are you Joel\n"
          ]
        }
      ]
    },
    {
      "cell_type": "code",
      "source": [
        "# String Immutability\n",
        "\n",
        "string_1 = \"Hello\"\n",
        "string_1[1] = \"a\"\n",
        "string_1 = \"Hallo\"\n",
        "new_string = string_1 + \", world!\"\n",
        "\n",
        "print(string_1)  # Output: Hello\n",
        "print(new_string)       # Output: Hello, world!"
      ],
      "metadata": {
        "id": "Jqx-vxRc8RwJ",
        "colab": {
          "base_uri": "https://localhost:8080/",
          "height": 251
        },
        "outputId": "97876143-e2f6-4f21-ccef-862df0788d0e"
      },
      "execution_count": null,
      "outputs": [
        {
          "output_type": "error",
          "ename": "TypeError",
          "evalue": "'str' object does not support item assignment",
          "traceback": [
            "\u001b[0;31m---------------------------------------------------------------------------\u001b[0m",
            "\u001b[0;31mTypeError\u001b[0m                                 Traceback (most recent call last)",
            "\u001b[0;32m<ipython-input-12-fa42b2a49fda>\u001b[0m in \u001b[0;36m<cell line: 4>\u001b[0;34m()\u001b[0m\n\u001b[1;32m      2\u001b[0m \u001b[0;34m\u001b[0m\u001b[0m\n\u001b[1;32m      3\u001b[0m \u001b[0mstring_1\u001b[0m \u001b[0;34m=\u001b[0m \u001b[0;34m\"Hello\"\u001b[0m\u001b[0;34m\u001b[0m\u001b[0;34m\u001b[0m\u001b[0m\n\u001b[0;32m----> 4\u001b[0;31m \u001b[0mstring_1\u001b[0m\u001b[0;34m[\u001b[0m\u001b[0;36m1\u001b[0m\u001b[0;34m]\u001b[0m \u001b[0;34m=\u001b[0m \u001b[0;34m\"a\"\u001b[0m\u001b[0;34m\u001b[0m\u001b[0;34m\u001b[0m\u001b[0m\n\u001b[0m\u001b[1;32m      5\u001b[0m \u001b[0mstring_1\u001b[0m \u001b[0;34m=\u001b[0m \u001b[0;34m\"Hallo\"\u001b[0m\u001b[0;34m\u001b[0m\u001b[0;34m\u001b[0m\u001b[0m\n\u001b[1;32m      6\u001b[0m \u001b[0mnew_string\u001b[0m \u001b[0;34m=\u001b[0m \u001b[0mstring_1\u001b[0m \u001b[0;34m+\u001b[0m \u001b[0;34m\", world!\"\u001b[0m\u001b[0;34m\u001b[0m\u001b[0;34m\u001b[0m\u001b[0m\n",
            "\u001b[0;31mTypeError\u001b[0m: 'str' object does not support item assignment"
          ]
        }
      ]
    },
    {
      "cell_type": "code",
      "source": [
        "print(string_1)"
      ],
      "metadata": {
        "colab": {
          "base_uri": "https://localhost:8080/"
        },
        "id": "CpqHoMu5OZMY",
        "outputId": "0fffad43-2b52-485f-b5e5-fc37ee068727"
      },
      "execution_count": null,
      "outputs": [
        {
          "output_type": "stream",
          "name": "stdout",
          "text": [
            "Hello\n"
          ]
        }
      ]
    },
    {
      "cell_type": "code",
      "source": [
        "list_of_names = [\"Joanna\", \"Joel\", \"Kate\", \"Laura\"]\n",
        "\n",
        "for name in list_of_names:\n",
        "  print(name)\n",
        "  print(name+\"!\")\n"
      ],
      "metadata": {
        "colab": {
          "base_uri": "https://localhost:8080/"
        },
        "id": "VJ5N4b9eN-C4",
        "outputId": "2934970e-3665-4155-93f1-6066f7dad1f0"
      },
      "execution_count": null,
      "outputs": [
        {
          "output_type": "stream",
          "name": "stdout",
          "text": [
            "Joanna\n",
            "Joanna!\n",
            "Joel\n",
            "Joel!\n",
            "Kate\n",
            "Kate!\n",
            "Laura\n",
            "Laura!\n"
          ]
        }
      ]
    },
    {
      "cell_type": "code",
      "source": [
        "list_of_names"
      ],
      "metadata": {
        "colab": {
          "base_uri": "https://localhost:8080/"
        },
        "id": "Nrk-eXVqOQbN",
        "outputId": "687070ba-8c50-4548-beb6-90066934bc8a"
      },
      "execution_count": null,
      "outputs": [
        {
          "output_type": "execute_result",
          "data": {
            "text/plain": [
              "['Joanna', 'Joel', 'Kate', 'Laura']"
            ]
          },
          "metadata": {},
          "execution_count": 28
        }
      ]
    }
  ]
}
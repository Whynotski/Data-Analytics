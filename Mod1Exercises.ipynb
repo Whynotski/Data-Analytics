{
 "cells": [
  {
   "cell_type": "markdown",
   "metadata": {},
   "source": [
    "# Module 1 Exercises - Basic Python"
   ]
  },
  {
   "cell_type": "markdown",
   "metadata": {},
   "source": [
    "### Exercise 1:\n",
    "Create a variable that has an int value and another variable that has a float value. Write code that prints the product (multiply the two variables together).\n",
    "\n",
    "*Hint*: To multiply numbers in Python, use the asterisk sign (*). "
   ]
  },
  {
   "cell_type": "code",
   "execution_count": 25,
   "metadata": {},
   "outputs": [
    {
     "name": "stdout",
     "output_type": "stream",
     "text": [
      "π (3.141592653589793) multiplied by the answer to life (42) = 131.94689145077132\n"
     ]
    }
   ],
   "source": [
    "from math import pi\n",
    "import unicodedata\n",
    "\n",
    "\n",
    "# Multiplies pi by the answer to life according to \"Hitchhiker's Guide to the galaxy\".\n",
    "the_pi_value = pi\n",
    "the_answer_to_life = 42\n",
    "pi_symbol = unicodedata.lookup(\"GREEK SMALL LETTER PI\")\n",
    "print(pi_symbol + \" (\" + str(pi) +\") multiplied by the answer to life (42) =\", the_pi_value * the_answer_to_life)"
   ]
  },
  {
   "cell_type": "markdown",
   "metadata": {},
   "source": [
    "### Exercise 2:\n",
    "\n",
    "Make a list of all the months in the year. Write code that uses a loop to go through the list, print out the month and the number of characters (length) for each month word."
   ]
  },
  {
   "cell_type": "code",
   "execution_count": 8,
   "metadata": {},
   "outputs": [
    {
     "name": "stdout",
     "output_type": "stream",
     "text": [
      "January 7\n",
      "February 8\n",
      "March 5\n",
      "April 5\n",
      "May 3\n",
      "June 4\n",
      "July 4\n",
      "August 6\n",
      "September 9\n",
      "October 7\n",
      "November 8\n",
      "December 8\n"
     ]
    }
   ],
   "source": [
    "# Months of the year.\n",
    "months = ['January', 'February', 'March', 'April', 'May', 'June', 'July', 'August', 'September', 'October', 'November', 'December']\n",
    "\n",
    "# Print each month and length\n",
    "for month in months:\n",
    "    print(month, len(month))"
   ]
  },
  {
   "cell_type": "markdown",
   "metadata": {},
   "source": [
    "### Exercise 3:\n",
    "Create a dictionary with keys \"movie\" and \"season\", with the values being your favorite movie and season. Then write code to print out \"My favorite [key] is [value]\"."
   ]
  },
  {
   "cell_type": "code",
   "execution_count": 15,
   "metadata": {},
   "outputs": [
    {
     "name": "stdout",
     "output_type": "stream",
     "text": [
      "My favorite Spring is 'Captain Marvel'\n",
      "My favorite Summer is 'Detective Pikachu'\n",
      "My favorite Fall is 'Avenger: Endgame'\n",
      "My favorite Winter is 'Star Wars: Episode VI'\n"
     ]
    }
   ],
   "source": [
    "spring_movie = 'Captain Marvel'\n",
    "summer_movie = 'Detective Pikachu'\n",
    "fall_movie = 'Avenger: Endgame'\n",
    "winter_movie = 'Star Wars: Episode VI'\n",
    "movies_by_season = {'Spring' : spring_movie, 'Summer' : summer_movie, \n",
    "                    'Fall' : fall_movie, 'Winter': winter_movie}\n",
    "for season, movie in movies_by_season.items(): \n",
    "    print(\"My favorite\", season + \" is '\" + movie + \"'\")"
   ]
  },
  {
   "cell_type": "markdown",
   "metadata": {},
   "source": [
    "### Exercise 4:\n",
    "Create a customized function (def) that divides two variables and returns the result of their division. Then call your function using the variables you made in Exercise 1. \n",
    "\n",
    "*Hint*: To divide numbers in Python, use the forward slash (/)."
   ]
  },
  {
   "cell_type": "code",
   "execution_count": 22,
   "metadata": {},
   "outputs": [
    {
     "name": "stdout",
     "output_type": "stream",
     "text": [
      "3.0\n",
      "You can't divide by zero!\n",
      "None\n"
     ]
    }
   ],
   "source": [
    "def divide(n, d):\n",
    "    result = None\n",
    "    try:\n",
    "        result = n/d\n",
    "    except ZeroDivisionError:\n",
    "        print(\"You can't divide by zero!\")\n",
    "    return result\n",
    "    \n",
    "result = divide(9, 3)\n",
    "print(result)\n",
    "result = divide(9, 0)\n",
    "print(result)"
   ]
  },
  {
   "cell_type": "code",
   "execution_count": null,
   "metadata": {
    "collapsed": true
   },
   "outputs": [],
   "source": []
  }
 ],
 "metadata": {
  "kernelspec": {
   "display_name": "Python 3",
   "language": "python",
   "name": "python3"
  },
  "language_info": {
   "codemirror_mode": {
    "name": "ipython",
    "version": 3
   },
   "file_extension": ".py",
   "mimetype": "text/x-python",
   "name": "python",
   "nbconvert_exporter": "python",
   "pygments_lexer": "ipython3",
   "version": "3.6.7"
  }
 },
 "nbformat": 4,
 "nbformat_minor": 2
}
